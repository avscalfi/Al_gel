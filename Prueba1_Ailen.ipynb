{
 "cells": [
  {
   "cell_type": "code",
   "execution_count": 2,
   "metadata": {},
   "outputs": [
    {
     "ename": "TypeError",
     "evalue": "'module' object is not callable",
     "output_type": "error",
     "traceback": [
      "\u001b[1;31m---------------------------------------------------------------------------\u001b[0m",
      "\u001b[1;31mTypeError\u001b[0m                                 Traceback (most recent call last)",
      "\u001b[1;32m<ipython-input-2-db1e520b4a37>\u001b[0m in \u001b[0;36m<module>\u001b[1;34m\u001b[0m\n\u001b[0;32m      7\u001b[0m \u001b[0mos\u001b[0m\u001b[1;33m.\u001b[0m\u001b[0mchdir\u001b[0m\u001b[1;33m(\u001b[0m\u001b[1;34mr'C:\\Users\\yttap\\Documents\\PostDoc\\SAXSmeas\\SAXS_Al_gel\\ascii_2016\\v8'\u001b[0m\u001b[1;33m)\u001b[0m\u001b[1;33m\u001b[0m\u001b[1;33m\u001b[0m\u001b[0m\n\u001b[0;32m      8\u001b[0m \u001b[1;33m\u001b[0m\u001b[0m\n\u001b[1;32m----> 9\u001b[1;33m \u001b[0mlista\u001b[0m \u001b[1;33m=\u001b[0m \u001b[0msorted\u001b[0m\u001b[1;33m(\u001b[0m\u001b[0mglob\u001b[0m\u001b[1;33m(\u001b[0m\u001b[1;34m\"*.dat\"\u001b[0m\u001b[1;33m)\u001b[0m\u001b[1;33m,\u001b[0m \u001b[0mkey\u001b[0m \u001b[1;33m=\u001b[0m \u001b[0mlen\u001b[0m\u001b[1;33m)\u001b[0m\u001b[1;33m\u001b[0m\u001b[1;33m\u001b[0m\u001b[0m\n\u001b[0m\u001b[0;32m     10\u001b[0m \u001b[1;33m\u001b[0m\u001b[0m\n\u001b[0;32m     11\u001b[0m \u001b[1;32mdef\u001b[0m \u001b[0mabrir\u001b[0m\u001b[1;33m(\u001b[0m\u001b[0marchivo\u001b[0m\u001b[1;33m)\u001b[0m\u001b[1;33m:\u001b[0m\u001b[1;33m\u001b[0m\u001b[1;33m\u001b[0m\u001b[0m\n",
      "\u001b[1;31mTypeError\u001b[0m: 'module' object is not callable"
     ]
    }
   ],
   "source": [
    "import os\n",
    "import numpy as np\n",
    "import glob\n",
    "from matplotlib import pyplot as plt\n",
    "from lmfit import minimize, Parameters, report_fit\n",
    "#%%\n",
    "os.chdir(r'C:\\Users\\yttap\\Documents\\PostDoc\\SAXSmeas\\SAXS_Al_gel\\ascii_2016\\v8')\n",
    "\n",
    "lista = sorted(glob(\"*.dat\"), key = len)\n",
    "\n",
    "def abrir(archivo):\n",
    "    return np.transpose(np.loadtxt(archivo))\n",
    "q,I = abrir(lista[0])\n",
    "#%%\n",
    "def residual(params, q, I):\n",
    "    G = params['G']\n",
    "    R = params['R']\n",
    "    d = params['d']\n",
    "    q_1 = pow((1/R*(3*d/2)),(1/2))\n",
    "    model = ((q<=q_1) * (G*np.exp((pow(q,2)*pow(R,2)/3))) + (q>q_1) * (G*(np.exp(-d/2)*pow((3*d/2),(d/2))*(1/R))/pow(q,d)))\n",
    "    return I - model\n",
    "\n",
    "params = Parameters()\n",
    "params.add('G', value = 1,  vary = True)\n",
    "params.add('R', value = 1,  vary = True)\n",
    "params.add('d', value = 1,  vary = True)\n",
    "\n",
    "#Filtro los primeros datos\n",
    "q_new = q[q>0.2]\n",
    "I_new = I[29:]\n",
    "\n",
    "out = minimize(residual, params, args = (q_new,I_new))\n",
    "res = out.params.valuesdict()\n",
    "print(report_fit(out))\n",
    "yf = I - out.residual\n",
    "\n",
    "#%%\n",
    "plt.plot(q_new,I_new)\n",
    "# plt.plot(q,yf)\n",
    "# plt.xlim(0.1,1)\n",
    "plt.ylim(0.3e6, 4e6)\n",
    "plt.xlabel('q$(nm^{-1})$')\n",
    "plt.ylabel('Intensity')"
   ]
  },
  {
   "cell_type": "code",
   "execution_count": 13,
   "metadata": {},
   "outputs": [
    {
     "data": {
      "text/plain": [
       "[<matplotlib.lines.Line2D at 0x291a3716e08>]"
      ]
     },
     "execution_count": 13,
     "metadata": {},
     "output_type": "execute_result"
    },
    {
     "data": {
      "image/png": "[encoded data removed]",
      "text/plain": [
       "<Figure size 432x288 with 1 Axes>"
      ]
     },
     "metadata": {
      "needs_background": "light"
     },
     "output_type": "display_data"
    }
   ],
   "source": [
    "def fp(q,q_1,G,R,d):\n",
    "    return ((q<=q_1) * (G*np.exp(-(pow(q,2)*pow(R,2)/3))) + (q>q_1) * (G*(np.exp(-d/2)*pow((3*d/2),(d/2))*(1/R))/pow(q,d)))\n",
    "\n",
    "#G=400,D=4.5e-6,Rg=25,s=0,d=4,q0=0.248,b=1e-6\n",
    "xd = np.linspace(0.003,0.5,500)\n",
    "plt.figure()\n",
    "yd = fp(xd,0.248,400,25,4)\n",
    "plt.loglog(xd,yd)"
   ]
  }
 ],
 "metadata": {
  "kernelspec": {
   "display_name": "Python 3",
   "language": "python",
   "name": "python3"
  },
  "language_info": {
   "codemirror_mode": {
    "name": "ipython",
    "version": 3
   },
   "file_extension": ".py",
   "mimetype": "text/x-python",
   "name": "python",
   "nbconvert_exporter": "python",
   "pygments_lexer": "ipython3",
   "version": "3.7.4"
  }
 },
 "nbformat": 4,
 "nbformat_minor": 2
}
